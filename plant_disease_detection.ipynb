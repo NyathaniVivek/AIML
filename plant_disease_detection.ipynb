{
  "cells": [
    {
      "cell_type": "markdown",
      "metadata": {
        "id": "view-in-github",
        "colab_type": "text"
      },
      "source": [
        "<a href=\"https://colab.research.google.com/github/NyathaniVivek/AIML/blob/main/plant_disease_detection.ipynb\" target=\"_parent\"><img src=\"https://colab.research.google.com/assets/colab-badge.svg\" alt=\"Open In Colab\"/></a>"
      ]
    },
    {
      "cell_type": "markdown",
      "metadata": {
        "id": "u89dvv0E2ZTk"
      },
      "source": [
        "This is a comprehensive demonstration of fastai on an image dataset. [Fast.ai](https://github.com/fastai/fastai) is a deep learning library which uses pytorch as its backend. So, in many ways, it is more modern and robust than tensorflow based libraries like keras."
      ]
    },
    {
      "cell_type": "markdown",
      "metadata": {
        "id": "bOt4u2Uq2ZTm"
      },
      "source": [
        "For this analysis, a plant disease dataset is being used to detect and diagose plant based diseases. Plant diseases are a major threat to food security and it is important to diagnose these diseases early and accurately. This can lead to a better future for food self-sufficiency, efficient waste management etc. The domain of plant disease diagnosis has experienced a huge progress as technology has evolved -- from visual depiction of symptoms to a molecular level detection. In this notebook, we are looking to detect these diseases from images of the leaves of healthy and diseased plants."
      ]
    },
    {
      "cell_type": "markdown",
      "metadata": {
        "id": "on_Ts7v32ZTm"
      },
      "source": [
        "# Importing Libraries and Looking at the Data"
      ]
    },
    {
      "cell_type": "code",
      "execution_count": 1,
      "metadata": {
        "id": "7QOIbvra2ZTn",
        "outputId": "102508ad-c669-4894-ce59-ec6aa65e3685",
        "colab": {
          "base_uri": "https://localhost:8080/",
          "height": 176
        }
      },
      "outputs": [
        {
          "output_type": "error",
          "ename": "FileNotFoundError",
          "evalue": "[Errno 2] No such file or directory: '../input/plantvillage/PlantVillage/'",
          "traceback": [
            "\u001b[0;31m---------------------------------------------------------------------------\u001b[0m",
            "\u001b[0;31mFileNotFoundError\u001b[0m                         Traceback (most recent call last)",
            "\u001b[0;32m<ipython-input-1-8ccb4cd3236f>\u001b[0m in \u001b[0;36m<cell line: 9>\u001b[0;34m()\u001b[0m\n\u001b[1;32m      7\u001b[0m \u001b[0mget_ipython\u001b[0m\u001b[0;34m(\u001b[0m\u001b[0;34m)\u001b[0m\u001b[0;34m.\u001b[0m\u001b[0mrun_line_magic\u001b[0m\u001b[0;34m(\u001b[0m\u001b[0;34m'matplotlib'\u001b[0m\u001b[0;34m,\u001b[0m \u001b[0;34m'inline'\u001b[0m\u001b[0;34m)\u001b[0m\u001b[0;34m\u001b[0m\u001b[0;34m\u001b[0m\u001b[0m\n\u001b[1;32m      8\u001b[0m \u001b[0mpath\u001b[0m \u001b[0;34m=\u001b[0m \u001b[0;34m\"../input/plantvillage/PlantVillage/\"\u001b[0m\u001b[0;34m\u001b[0m\u001b[0;34m\u001b[0m\u001b[0m\n\u001b[0;32m----> 9\u001b[0;31m \u001b[0mos\u001b[0m\u001b[0;34m.\u001b[0m\u001b[0mlistdir\u001b[0m\u001b[0;34m(\u001b[0m\u001b[0mpath\u001b[0m\u001b[0;34m)\u001b[0m\u001b[0;34m\u001b[0m\u001b[0;34m\u001b[0m\u001b[0m\n\u001b[0m",
            "\u001b[0;31mFileNotFoundError\u001b[0m: [Errno 2] No such file or directory: '../input/plantvillage/PlantVillage/'"
          ]
        }
      ],
      "source": [
        "from fastai import *\n",
        "from fastai.vision import *\n",
        "import os\n",
        "from os import listdir\n",
        "%reload_ext autoreload\n",
        "%autoreload 2\n",
        "%matplotlib inline\n",
        "path = \"../input/plantvillage/PlantVillage/\"\n",
        "os.listdir(path)"
      ]
    },
    {
      "cell_type": "markdown",
      "metadata": {
        "id": "iMXpcg-l2ZTn"
      },
      "source": [
        "So, in the dataset, we will be largely looking at the healthy and diseased variants of the leaves of tomato, potato and pepper. This is a classification problem where we have 15 labels or ground truths."
      ]
    },
    {
      "cell_type": "code",
      "execution_count": null,
      "metadata": {
        "id": "_Mfim1kL2ZTo"
      },
      "outputs": [],
      "source": [
        "path = Path(path); path"
      ]
    },
    {
      "cell_type": "code",
      "execution_count": null,
      "metadata": {
        "id": "m7_ScAQW2ZTo"
      },
      "outputs": [],
      "source": [
        "directory_root = '../input/plantvillage/'\n",
        "image_list, label_list = [], []\n",
        "try:\n",
        "    print(\"[INFO] Loading images ...\")\n",
        "    root_dir = listdir(directory_root)\n",
        "    for directory in root_dir :\n",
        "        # remove .DS_Store from list\n",
        "        if directory == \".DS_Store\" :\n",
        "            root_dir.remove(directory)\n",
        "\n",
        "    for plant_folder in root_dir :\n",
        "        plant_disease_folder_list = listdir(f\"{directory_root}/{plant_folder}\")\n",
        "\n",
        "        for disease_folder in plant_disease_folder_list :\n",
        "            # remove .DS_Store from list\n",
        "            if disease_folder == \".DS_Store\" :\n",
        "                plant_disease_folder_list.remove(disease_folder)\n",
        "\n",
        "        for plant_disease_folder in plant_disease_folder_list:\n",
        "            print(f\"[INFO] Processing {plant_disease_folder} ...\")\n",
        "            plant_disease_image_list = listdir(f\"{directory_root}/{plant_folder}/{plant_disease_folder}/\")\n",
        "\n",
        "            for single_plant_disease_image in plant_disease_image_list :\n",
        "                if single_plant_disease_image == \".DS_Store\" :\n",
        "                    plant_disease_image_list.remove(single_plant_disease_image)\n",
        "\n",
        "            for image in plant_disease_image_list[:200]:\n",
        "                image_directory = f\"{directory_root}/{plant_folder}/{plant_disease_folder}/{image}\"\n",
        "                if image_directory.endswith(\".jpg\") == True or image_directory.endswith(\".JPG\") == True:\n",
        "                    image_list.append(image_directory)\n",
        "                    label_list.append(plant_disease_folder)\n",
        "    print(\"[INFO] Image loading completed\")\n",
        "except Exception as e:\n",
        "    print(f\"Error : {e}\")"
      ]
    },
    {
      "cell_type": "markdown",
      "metadata": {
        "id": "8cRDiCQp2ZTo"
      },
      "source": [
        "After getting the data, we can use the `get_transforms` function to add variation, say, flipping the image vertically."
      ]
    },
    {
      "cell_type": "code",
      "execution_count": null,
      "metadata": {
        "id": "m025PRvb2ZTp"
      },
      "outputs": [],
      "source": [
        "tfms = get_transforms(flip_vert=True, max_warp=0., max_zoom=0., max_rotate=0.)"
      ]
    },
    {
      "cell_type": "markdown",
      "metadata": {
        "id": "NKZ_15642ZTp"
      },
      "source": [
        "It is very essential that one figures out how to get the labels, i.e. the ground truths from which the model can learn. Different kinds of datasets will have different ways to get the labels."
      ]
    },
    {
      "cell_type": "markdown",
      "metadata": {
        "id": "9wSBZ8Bb2ZTp"
      },
      "source": [
        "Let's take a sample file and get its label"
      ]
    },
    {
      "cell_type": "code",
      "execution_count": null,
      "metadata": {
        "id": "Sw4a5lRY2ZTp"
      },
      "outputs": [],
      "source": [
        "file_path = '../input/plantvillage/PlantVillage/Potato___Early_blight/0faca7fe-7254-4dfa-8388-bbc776338c9c___RS_Early.B 7929.JPG'"
      ]
    },
    {
      "cell_type": "code",
      "execution_count": null,
      "metadata": {
        "id": "UqQL76bI2ZTp"
      },
      "outputs": [],
      "source": [
        "dir_name = os.path.dirname(file_path)"
      ]
    },
    {
      "cell_type": "markdown",
      "metadata": {
        "id": "Cvveep3q2ZTq"
      },
      "source": [
        "One can see that the label is present in the file path itself (`Potato___Early_blight`) and to get it we can split the string with respect to `/` and get all the words separated by `/` into a list. From that list we can easily access the label."
      ]
    },
    {
      "cell_type": "code",
      "execution_count": null,
      "metadata": {
        "id": "qBZkjEMb2ZTq"
      },
      "outputs": [],
      "source": [
        "dir_length = len(dir_name.split(\"/\"))\n",
        "dir_name.split(\"/\")"
      ]
    },
    {
      "cell_type": "code",
      "execution_count": null,
      "metadata": {
        "id": "WGfX61xX2ZTq"
      },
      "outputs": [],
      "source": [
        "dir_name.split(\"/\")[dir_length - 1]"
      ]
    },
    {
      "cell_type": "markdown",
      "metadata": {
        "id": "aHBGPDFZ2ZTq"
      },
      "source": [
        "We got the label!\n",
        "Now, to generalise for all image files, we can create a function `get_labels` that performs the above steps."
      ]
    },
    {
      "cell_type": "code",
      "execution_count": null,
      "metadata": {
        "id": "YDAQTcK32ZTq"
      },
      "outputs": [],
      "source": [
        "def get_labels(file_path):\n",
        "    dir_name = os.path.dirname(file_path)\n",
        "    split_dir_name = dir_name.split(\"/\")\n",
        "    dir_length = len(split_dir_name)\n",
        "    label  = split_dir_name[dir_length - 1]\n",
        "    return(label)"
      ]
    },
    {
      "cell_type": "markdown",
      "metadata": {
        "id": "7vhyACZM2ZTq"
      },
      "source": [
        "Now that we are ready with the images and their corresponding labels, we can generate the data. We will also normalise so that all the pixel values have the same mean and standard deviation. This will help the model to learn more easily and faster."
      ]
    },
    {
      "cell_type": "code",
      "execution_count": null,
      "metadata": {
        "id": "d_yq1W1E2ZTr"
      },
      "outputs": [],
      "source": [
        "data = ImageDataBunch.from_name_func(path, image_list, label_func=get_labels,  size=224,\n",
        "                                     bs=64,num_workers=2,ds_tfms=tfms)\n",
        "data = data.normalize()"
      ]
    },
    {
      "cell_type": "markdown",
      "metadata": {
        "id": "aO3Sh1PR2ZTr"
      },
      "source": [
        "Let's take a look at a random sample of the data."
      ]
    },
    {
      "cell_type": "code",
      "execution_count": null,
      "metadata": {
        "id": "XNjUVDNw2ZTr"
      },
      "outputs": [],
      "source": [
        "data.show_batch(rows=3, figsize=(15,11))"
      ]
    },
    {
      "cell_type": "markdown",
      "metadata": {
        "id": "C_y9YGbg2ZTr"
      },
      "source": [
        "# Training the Model"
      ]
    },
    {
      "cell_type": "markdown",
      "metadata": {
        "id": "BYwyBiP62ZTr"
      },
      "source": [
        "We have successfully preprocessed the data by getting the labels and generating the images. Now, we are ready to train the model. To train, the transfer learning method is being used, where one uses a pre-trained model for handling the task at hand. For this problem, the CNN architecture Resnet34 is being used. It has 34 layers in its neural network architecture and is trained on the ImageNet dataset."
      ]
    },
    {
      "cell_type": "markdown",
      "metadata": {
        "id": "DhE0T8tK2ZTr"
      },
      "source": [
        "The Resnet or Residual Network essentially uses shortcut networks on top of feed forward networks. In plain feed forward networks, as the depth of the network increases the accuracy tends to get saturated. The residual networks do away with accuracy saturation by adding the shortcut networks."
      ]
    },
    {
      "cell_type": "markdown",
      "metadata": {
        "id": "JFSbp7BQ2ZTr"
      },
      "source": [
        "![](https://neurohive.io/wp-content/uploads/2019/01/resnet-architecture-3.png)"
      ]
    },
    {
      "cell_type": "markdown",
      "metadata": {
        "id": "8tjLdo5R2ZTr"
      },
      "source": [
        "[This article](https://neurohive.io/en/popular-networks/resnet/) helps in understanding Resnets in a detailed manner."
      ]
    },
    {
      "cell_type": "code",
      "execution_count": null,
      "metadata": {
        "id": "N_hdwbCQ2ZTr"
      },
      "outputs": [],
      "source": [
        "learn = cnn_learner(data, models.resnet34, metrics=error_rate, model_dir='/tmp/models/')"
      ]
    },
    {
      "cell_type": "markdown",
      "metadata": {
        "id": "fChLsdst2ZTs"
      },
      "source": [
        "Now we make this model learn for 10 epochs. Fastai randomly selects training and validation sets so that the user does not have to. Thus, it makes the coding much easier and smaller."
      ]
    },
    {
      "cell_type": "code",
      "execution_count": null,
      "metadata": {
        "id": "hUphpgU62ZTs"
      },
      "outputs": [],
      "source": [
        "learn.fit_one_cycle(10)"
      ]
    },
    {
      "cell_type": "markdown",
      "metadata": {
        "id": "P4eZJCVn2ZTs"
      },
      "source": [
        "In just 10 epochs, the model achieves a substantially high accuracy! Now let's see what were the most confident but wrong predictions so that we can further fine tune."
      ]
    },
    {
      "cell_type": "code",
      "execution_count": null,
      "metadata": {
        "id": "CWyaTNJI2ZTs"
      },
      "outputs": [],
      "source": [
        "interpretation = ClassificationInterpretation.from_learner(learn)\n",
        "losses, indices = interpretation.top_losses()\n",
        "interpretation.plot_top_losses(4, figsize=(15,11))"
      ]
    },
    {
      "cell_type": "markdown",
      "metadata": {
        "id": "4zse-zin2ZTs"
      },
      "source": [
        "We get a basic idea about what two labels the model is most confused about, i.e. how confident the model is at predicting the wrong value. e.g. the model predicts a plant to be a potato suffering from late blight when in fact it is actually a tomato suffering from early blight. In order to see how much the model is confused, we take a look at the confusion matrix."
      ]
    },
    {
      "cell_type": "code",
      "execution_count": null,
      "metadata": {
        "id": "bWSwRrhZ2ZTs"
      },
      "outputs": [],
      "source": [
        "interpretation.plot_confusion_matrix(figsize=(12,12), dpi=60)"
      ]
    },
    {
      "cell_type": "markdown",
      "metadata": {
        "id": "ydT9282_2ZTs"
      },
      "source": [
        "Most of the time, the model predicts the output correctly (the darkest blocks), but sometimes it gets confused and predicts the wrong value with a high confidence. We can look at the labels that the model is most confused with."
      ]
    },
    {
      "cell_type": "code",
      "execution_count": null,
      "metadata": {
        "id": "UskavUq72ZTt"
      },
      "outputs": [],
      "source": [
        "interpretation.most_confused(min_val=2)"
      ]
    },
    {
      "cell_type": "markdown",
      "metadata": {
        "id": "YKIzJ5yz2ZTt"
      },
      "source": [
        "# Fine Tuning"
      ]
    },
    {
      "cell_type": "code",
      "execution_count": null,
      "metadata": {
        "id": "uDvqfD1k2ZTt"
      },
      "outputs": [],
      "source": [
        "learn.save('classification-1')"
      ]
    },
    {
      "cell_type": "code",
      "execution_count": null,
      "metadata": {
        "id": "kCMWXM6z2ZTt"
      },
      "outputs": [],
      "source": [
        "learn.unfreeze()\n",
        "learn.fit_one_cycle(1)"
      ]
    },
    {
      "cell_type": "markdown",
      "metadata": {
        "id": "AZVGP-XX2ZTx"
      },
      "source": [
        "As soon as we let the model un-learn, its error rate becomes significantly higher. So, one should find an optimum learning rate at which the model should learn."
      ]
    },
    {
      "cell_type": "code",
      "execution_count": null,
      "metadata": {
        "id": "RsXzD1CJ2ZTy"
      },
      "outputs": [],
      "source": [
        "learn.lr_find()"
      ]
    },
    {
      "cell_type": "code",
      "execution_count": null,
      "metadata": {
        "id": "ZeLImUn42ZTy"
      },
      "outputs": [],
      "source": [
        "learn.recorder.plot()"
      ]
    },
    {
      "cell_type": "markdown",
      "metadata": {
        "id": "XLq1PdXI2ZTy"
      },
      "source": [
        "From the plot, it is clear that the loss increases very fast as the learning rate increases beyond 0.001. So, let's keep the learning rate within a range of 0.000001 to 0.001"
      ]
    },
    {
      "cell_type": "code",
      "execution_count": null,
      "metadata": {
        "id": "tTgBCC_L2ZTy"
      },
      "outputs": [],
      "source": [
        "learn.unfreeze()\n",
        "learn.fit_one_cycle(3, max_lr=slice(1e-6,1e-3))"
      ]
    },
    {
      "cell_type": "markdown",
      "metadata": {
        "id": "VRfKoDZT2ZTy"
      },
      "source": [
        "On fine tuning, we achieve a much higher accuracy and a much lower error rate. Let's again look at the confidently wrong predictions."
      ]
    },
    {
      "cell_type": "code",
      "execution_count": null,
      "metadata": {
        "id": "xRVBmLA32ZTz"
      },
      "outputs": [],
      "source": [
        "interpretation = ClassificationInterpretation.from_learner(learn)\n",
        "losses, indices = interpretation.top_losses()\n",
        "interpretation.plot_top_losses(4, figsize=(15,11))"
      ]
    },
    {
      "cell_type": "code",
      "execution_count": null,
      "metadata": {
        "id": "bQE_eE7Y2ZTz"
      },
      "outputs": [],
      "source": [
        "interpretation.most_confused(min_val=2)"
      ]
    },
    {
      "cell_type": "code",
      "execution_count": null,
      "metadata": {
        "id": "qvA9DfWQ2ZTz"
      },
      "outputs": [],
      "source": [
        "learn.save('resnet34-classifier.pkl')"
      ]
    },
    {
      "cell_type": "markdown",
      "metadata": {
        "id": "bk7vwXlg2ZTz"
      },
      "source": [
        "Clearly, the model is now much less confused as compared to the one before fine tuning because it has much less instances of confident but wrong predictions than before. In other words, there are much less predictions of confidently wrong predictions, so, the model is becoming more confidently right!"
      ]
    },
    {
      "cell_type": "code",
      "execution_count": null,
      "metadata": {
        "id": "2MqfFcpQ2ZTz"
      },
      "outputs": [],
      "source": [
        "learn.recorder.plot_losses()"
      ]
    },
    {
      "cell_type": "code",
      "execution_count": null,
      "metadata": {
        "id": "lBRG3E-x2ZTz"
      },
      "outputs": [],
      "source": [
        "os.chdir(\"/tmp/models/\")"
      ]
    }
  ],
  "metadata": {
    "kernelspec": {
      "display_name": "Python 3",
      "language": "python",
      "name": "python3"
    },
    "language_info": {
      "codemirror_mode": {
        "name": "ipython",
        "version": 3
      },
      "file_extension": ".py",
      "mimetype": "text/x-python",
      "name": "python",
      "nbconvert_exporter": "python",
      "pygments_lexer": "ipython3",
      "version": "3.6.6"
    },
    "colab": {
      "provenance": [],
      "include_colab_link": true
    }
  },
  "nbformat": 4,
  "nbformat_minor": 0
}